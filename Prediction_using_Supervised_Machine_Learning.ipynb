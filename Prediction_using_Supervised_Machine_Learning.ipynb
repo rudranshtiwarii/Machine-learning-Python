{
  "nbformat": 4,
  "nbformat_minor": 0,
  "metadata": {
    "colab": {
      "provenance": [],
      "collapsed_sections": [],
      "include_colab_link": true
    },
    "kernelspec": {
      "name": "python3",
      "display_name": "Python 3"
    }
  },
  "cells": [
    {
      "cell_type": "markdown",
      "metadata": {
        "id": "view-in-github",
        "colab_type": "text"
      },
      "source": [
        "<a href=\"https://colab.research.google.com/github/rudranshtiwarii/Machine-learning-Python/blob/main/Prediction_using_Supervised_Machine_Learning.ipynb\" target=\"_parent\"><img src=\"https://colab.research.google.com/assets/colab-badge.svg\" alt=\"Open In Colab\"/></a>"
      ]
    },
    {
      "cell_type": "markdown",
      "source": [
        "# **THE SPARKS FOUNDATION - GRIP - Oct 22**\n",
        "\n",
        "---\n",
        "\n",
        "**DATA SCIENCE AND BUSINESS ANALYTICS**\n",
        "\n",
        "---\n",
        "\n",
        "Author : Rudransh Tiwari.\n",
        "\n",
        "---\n",
        "\n",
        "Task #1 : Prediction using Supervised Machine Learning\n",
        "\n",
        "---\n",
        "Data set :  http://bit.ly/w-data\n"
      ],
      "metadata": {
        "id": "CfYSmYWPFgKF"
      }
    },
    {
      "metadata": {
        "id": "GzfdMfk10NE6"
      },
      "cell_type": "markdown",
      "source": [
        "# Prediction using Supervised ML\n",
        " Linear Regression with Python Scikit Learn.\n",
        "Using Simple Linear Regression \n",
        "My task is to predict the percentage of marks that a student \n",
        "is score based upon the number of hours they studied.\n",
        " with just two variables. "
      ]
    },
    {
      "metadata": {
        "id": "V9QN2ZxC38pB"
      },
      "cell_type": "code",
      "source": [
        "# Importing all libraries required in this notebook\n",
        "import pandas as pd\n",
        "import numpy as np  \n",
        "import matplotlib.pyplot as plt  \n",
        "%matplotlib inline"
      ],
      "execution_count": null,
      "outputs": []
    },
    {
      "metadata": {
        "id": "LtU4YMEhqm9m"
      },
      "cell_type": "code",
      "source": [
        "# Reading data from remote link\n",
        "url = \"http://bit.ly/w-data\"\n",
        "df = pd.read_csv(url)\n",
        "print(\"Data imported successfully\")\n",
        "\n",
        "df.head(10) #displays the first 10 rows"
      ],
      "execution_count": null,
      "outputs": []
    },
    {
      "cell_type": "code",
      "source": [
        "df.shape  #gives no of rows and columns"
      ],
      "metadata": {
        "id": "Qp2lC18y9s0S"
      },
      "execution_count": null,
      "outputs": []
    },
    {
      "cell_type": "code",
      "source": [
        "df.describe()"
      ],
      "metadata": {
        "id": "tUubJbBZ9zsL"
      },
      "execution_count": null,
      "outputs": []
    },
    {
      "metadata": {
        "id": "RHsPneuM4NgB"
      },
      "cell_type": "markdown",
      "source": [
        "Now lets ploting our data points on 2-D graph to eyeball our dataset and see if we can manually find any relationship between the data.\n",
        " We can create the plot with the following script:"
      ]
    },
    {
      "metadata": {
        "id": "qxYBZkhAqpn9"
      },
      "cell_type": "code",
      "source": [
        "# Plotting the distribution of scores\n",
        "df.plot(x='Hours', y='Scores', style='o')  \n",
        "plt.title('Hours vs Percentage')  \n",
        "plt.xlabel('Hours Studied')  \n",
        "plt.ylabel('Percentage Score')  \n",
        "plt.show()"
      ],
      "execution_count": null,
      "outputs": []
    },
    {
      "cell_type": "code",
      "source": [
        "#separate feature and target\n",
        "x=df['Hours'].values.reshape(-1,1)\n",
        "x"
      ],
      "metadata": {
        "id": "E64xnxl1_Bww"
      },
      "execution_count": null,
      "outputs": []
    },
    {
      "cell_type": "code",
      "source": [
        "y=df['Scores'].values\n",
        "y"
      ],
      "metadata": {
        "id": "4pInBO0U_FbH"
      },
      "execution_count": null,
      "outputs": []
    },
    {
      "cell_type": "code",
      "source": [
        "#Train-Test split\n",
        "from sklearn.model_selection import train_test_split\n",
        "x_train, x_test, y_train, y_test = train_test_split(x,y,test_size=0.2,random_state=0)"
      ],
      "metadata": {
        "id": "Ao6CqbZs_fIc"
      },
      "execution_count": null,
      "outputs": []
    },
    {
      "cell_type": "code",
      "source": [
        "#model building\n",
        "from sklearn.linear_model import LinearRegression\n",
        "clf=LinearRegression()"
      ],
      "metadata": {
        "id": "wG4mSeNS_lPA"
      },
      "execution_count": null,
      "outputs": []
    },
    {
      "cell_type": "code",
      "source": [
        "clf.fit(x_train,y_train)  #train the model"
      ],
      "metadata": {
        "id": "oKXKF-CD_oii"
      },
      "execution_count": null,
      "outputs": []
    },
    {
      "cell_type": "code",
      "source": [
        "clf.predict(x_test)  #prediction"
      ],
      "metadata": {
        "id": "pJVTk8yX_qlR"
      },
      "execution_count": null,
      "outputs": []
    },
    {
      "cell_type": "code",
      "source": [
        "clf.fit(x_train,y_train)  #train the model"
      ],
      "metadata": {
        "id": "g_G_a8iw_sMk"
      },
      "execution_count": null,
      "outputs": []
    },
    {
      "cell_type": "code",
      "source": [
        "clf.score(x_test,y_test)"
      ],
      "metadata": {
        "id": "XaXt0h27_t-B"
      },
      "execution_count": null,
      "outputs": []
    },
    {
      "cell_type": "code",
      "source": [
        "#Plotting the regression line\n",
        "l=clf.coef_*x+clf.intercept_\n",
        "#plotting for the test data\n",
        "plt.scatter(x,y)\n",
        "plt.plot(x,l)\n",
        "plt.xlabel('Hours')\n",
        "plt.ylabel('Scores')\n",
        "plt.show()"
      ],
      "metadata": {
        "id": "Xl6lQ8Q3_v12"
      },
      "execution_count": null,
      "outputs": []
    },
    {
      "cell_type": "code",
      "source": [
        "#viewing actual and test set side-by-side\n",
        "y_pre=clf.predict(x_test)\n",
        "df=pd.DataFrame({'Actual':y_test,'Predicted':y_pre})\n",
        "df"
      ],
      "metadata": {
        "id": "FFx4J7A9_xxH"
      },
      "execution_count": null,
      "outputs": []
    },
    {
      "cell_type": "code",
      "source": [
        "#Predict score for custom input value for Hours(9.25)\n",
        "hrs=9.25\n",
        "my_pre=clf.predict([[hrs]])\n",
        "print(\"No of hrs studied = {}\".format(hrs))\n",
        "print(\"Predicted Score = {}\".format(my_pre[0]))"
      ],
      "metadata": {
        "id": "frnInlLQ_0Cj"
      },
      "execution_count": null,
      "outputs": []
    },
    {
      "cell_type": "code",
      "source": [
        "#Evaluating the model\n",
        "from sklearn import metrics\n",
        "print('Mean Absolute Error:',metrics.mean_absolute_error(y_test,y_pre))"
      ],
      "metadata": {
        "id": "w5OLNrw5_1lt"
      },
      "execution_count": null,
      "outputs": []
    }
  ]
}